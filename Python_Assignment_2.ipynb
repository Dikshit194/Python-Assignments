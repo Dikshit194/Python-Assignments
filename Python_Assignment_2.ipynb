{
  "nbformat": 4,
  "nbformat_minor": 0,
  "metadata": {
    "colab": {
      "name": "Python_Assignment-2.ipynb",
      "provenance": [],
      "collapsed_sections": [],
      "include_colab_link": true
    },
    "kernelspec": {
      "name": "python3",
      "display_name": "Python 3"
    }
  },
  "cells": [
    {
      "cell_type": "markdown",
      "metadata": {
        "id": "view-in-github",
        "colab_type": "text"
      },
      "source": [
        "<a href=\"https://colab.research.google.com/github/Dikshit194/Python-Assignments/blob/master/Python_Assignment_2.ipynb\" target=\"_parent\"><img src=\"https://colab.research.google.com/assets/colab-badge.svg\" alt=\"Open In Colab\"/></a>"
      ]
    },
    {
      "cell_type": "markdown",
      "metadata": {
        "id": "5AwymnGtr4WK",
        "colab_type": "text"
      },
      "source": [
        "**Task 1:**\n",
        "\n",
        "1.1\n",
        "Write a Python Program to implement your own myreduce() function which works exactly like\n",
        "Python's built-in function reduce()"
      ]
    },
    {
      "cell_type": "code",
      "metadata": {
        "id": "ZFoVQw1Brtxg",
        "colab_type": "code",
        "outputId": "92957019-28cb-45fb-ab7e-8dabc4e33d57",
        "colab": {
          "base_uri": "https://localhost:8080/",
          "height": 35
        }
      },
      "source": [
        "class Reduce:\n",
        "  def my_reduce(self):\n",
        "    input_list = [1,2,3,4,5]\n",
        "    sum=0\n",
        "    for l in input_list:\n",
        "      sum = sum + l\n",
        "    return sum\n",
        "r = Reduce()\n",
        "print(r.my_reduce())\n"
      ],
      "execution_count": 8,
      "outputs": [
        {
          "output_type": "stream",
          "text": [
            "15\n"
          ],
          "name": "stdout"
        }
      ]
    },
    {
      "cell_type": "markdown",
      "metadata": {
        "id": "RrjnHINmvk2t",
        "colab_type": "text"
      },
      "source": [
        "1.2\n",
        "Write a Python program to implement your own myfilter() function which works exactly like\n",
        "Python's built-in function filter()"
      ]
    },
    {
      "cell_type": "code",
      "metadata": {
        "id": "51n9oww0fb8Z",
        "colab_type": "code",
        "outputId": "eff3d642-891b-4199-9307-f7b9ca42e2ee",
        "colab": {
          "base_uri": "https://localhost:8080/",
          "height": 35
        }
      },
      "source": [
        "class Filter:\n",
        "  def my_filter(self):\n",
        "    input_list = [1,2,6,12,3,4,5,7,14]\n",
        "    for l in range(len(input_list)):\n",
        "      if input_list[l] % 2==0:\n",
        "        return input_list[l]\n",
        "      \n",
        "r = Filter()\n",
        "print(r.my_filter())"
      ],
      "execution_count": 9,
      "outputs": [
        {
          "output_type": "stream",
          "text": [
            "2\n"
          ],
          "name": "stdout"
        }
      ]
    },
    {
      "cell_type": "markdown",
      "metadata": {
        "id": "U0IXan9qvqKf",
        "colab_type": "text"
      },
      "source": [
        "2.\n",
        "Implement List comprehensions to produce the following lists.\n",
        "Write List comprehensions to produce the following Lists\n",
        "\n",
        "['A', 'C', 'A', 'D', 'G', 'I', ’L’, ‘ D’]\n",
        "\n",
        "['x', 'xx', 'xxx', 'xxxx', 'y', 'yy', 'yyy', 'yyyy', 'z', 'zz', 'zzz', 'zzzz']\n",
        "\n",
        "['x', 'y', 'z', 'xx', 'yy', 'zz', 'xx', 'yy', 'zz', 'xxxx', 'yyyy', 'zzzz']\n",
        "\n",
        "[[2], [3], [4], [3], [4], [5], [4], [5], [6]]\n",
        "\n",
        "[[2, 3, 4, 5], [3, 4, 5, 6], [4, 5, 6, 7], [5, 6, 7, 8]]\n",
        "\n",
        "[(1, 1), (2, 1), (3, 1), (1, 2), (2, 2), (3, 2), (1, 3), (2, 3), (3, 3)]"
      ]
    },
    {
      "cell_type": "code",
      "metadata": {
        "id": "vbUonywqxryK",
        "colab_type": "code",
        "outputId": "49f5f313-b77a-4b6e-8c6b-e2b4faa1d566",
        "colab": {
          "base_uri": "https://localhost:8080/",
          "height": 121
        }
      },
      "source": [
        "#####################\n",
        "word = \"ACADGILD\"\n",
        "input_list = [ alphabet for alphabet in word ]\n",
        "print (\"ACADGILD => \" + str(input_list))\n",
        "\n",
        "#####################\n",
        "\n",
        "input_list = ['x','y','z']\n",
        "result = [ item*num for item in input_list for num in range(1,5)  ]\n",
        "print(\"['x','y','z'] => \" +   str(result))\n",
        "\n",
        "#####################\n",
        "\n",
        "input_list = ['x','y','z']\n",
        "result = [ item*num for num in range(1,5) for item in input_list  ]\n",
        "print(\"['x','y','z'] => \" +   str(result))\n",
        "\n",
        "#####################\n",
        "input_list = [2,3,4]\n",
        "result = [ [item+num] for item in input_list for num in range(0,3)]\n",
        "print(\"[2,3,4] =>\" +  str(result))\n",
        "\n",
        "#####################\n",
        "input_list = [2,3,4,5]\n",
        "result = [ [item+num for item in input_list] for num in range(0,4)  ]\n",
        "print(\"[2,3,4,5] =>\" +  str(result))\n",
        "\n",
        "#####################\n",
        "input_list=[1,2,3]\n",
        "result = [ (b,a) for a in input_list for b in input_list]\n",
        "print(\"[1,2,3] =>\" +  str(result))"
      ],
      "execution_count": 10,
      "outputs": [
        {
          "output_type": "stream",
          "text": [
            "ACADGILD => ['A', 'C', 'A', 'D', 'G', 'I', 'L', 'D']\n",
            "['x','y','z'] => ['x', 'xx', 'xxx', 'xxxx', 'y', 'yy', 'yyy', 'yyyy', 'z', 'zz', 'zzz', 'zzzz']\n",
            "['x','y','z'] => ['x', 'y', 'z', 'xx', 'yy', 'zz', 'xxx', 'yyy', 'zzz', 'xxxx', 'yyyy', 'zzzz']\n",
            "[2,3,4] =>[[2], [3], [4], [3], [4], [5], [4], [5], [6]]\n",
            "[2,3,4,5] =>[[2, 3, 4, 5], [3, 4, 5, 6], [4, 5, 6, 7], [5, 6, 7, 8]]\n",
            "[1,2,3] =>[(1, 1), (2, 1), (3, 1), (1, 2), (2, 2), (3, 2), (1, 3), (2, 3), (3, 3)]\n"
          ],
          "name": "stdout"
        }
      ]
    },
    {
      "cell_type": "markdown",
      "metadata": {
        "id": "elzGM0HzySpj",
        "colab_type": "text"
      },
      "source": [
        "3.\n",
        "Implement a function longestWord() that takes a list of words and returns the longest one."
      ]
    },
    {
      "cell_type": "code",
      "metadata": {
        "id": "LTZQyWzgyXwJ",
        "colab_type": "code",
        "outputId": "dbbc01e8-c443-4e1f-c8c9-95b4889ee26d",
        "colab": {
          "base_uri": "https://localhost:8080/",
          "height": 35
        }
      },
      "source": [
        "input_list = [\"PYTHON\", \"DATA SCIENCE\", \"MACHINE LEARNING\"]\n",
        "new_list = []\n",
        "for i in input_list:\n",
        "  new_list.append((len(i), i))\n",
        "new_list.sort()\n",
        "new_list[-1][1]\n"
      ],
      "execution_count": 11,
      "outputs": [
        {
          "output_type": "execute_result",
          "data": {
            "text/plain": [
              "'MACHINE LEARNING'"
            ]
          },
          "metadata": {
            "tags": []
          },
          "execution_count": 11
        }
      ]
    },
    {
      "cell_type": "code",
      "metadata": {
        "id": "SHJ4oLb1z2MQ",
        "colab_type": "code",
        "colab": {}
      },
      "source": [
        ""
      ],
      "execution_count": 0,
      "outputs": []
    },
    {
      "cell_type": "markdown",
      "metadata": {
        "id": "CRHvvV1Uz3Ul",
        "colab_type": "text"
      },
      "source": [
        "**Task 2:**\n",
        "\n",
        "1.1\n",
        "Write a Python Program(with class concepts) to find the area of the triangle using the below\n",
        "formula.\n",
        "\n",
        "area = (s*(s-a)*(s-b)*(s-c)) ** 0.5\n",
        "\n",
        "Function to take the length of the sides of triangle from user should be defined in the parent\n",
        "class and function to calculate the area should be defined in subclass."
      ]
    },
    {
      "cell_type": "code",
      "metadata": {
        "id": "Bu4iy0e8Q8MI",
        "colab_type": "code",
        "colab": {
          "base_uri": "https://localhost:8080/",
          "height": 104
        },
        "outputId": "141eea56-430b-4669-e969-2a6d597c0981"
      },
      "source": [
        "class Parent():\n",
        "  def __init__(self):\n",
        "    a = float(input('Enter first side: '))\n",
        "    b = float(input('Enter second side: '))\n",
        "    c = float(input('Enter third side: ')) \n",
        "    s = (a + b + c) / 2\n",
        "    print(s)\n",
        "\n",
        "class Sub(Parent):\n",
        "  def __init__(self):\n",
        "    Parent.__init__(self)\n",
        "\n",
        "  def areaOfTriangle(self):\n",
        "    a, b, c = self.sides\n",
        "    area = (s*(s-a)*(s-b)*(s-c)) ** 0.5 \n",
        "    return 'The area of the triangle is %f' % area\n",
        "\n",
        "obj = Sub()\n",
        "print(obj.areaOfTriangle)"
      ],
      "execution_count": 25,
      "outputs": [
        {
          "output_type": "stream",
          "text": [
            "Enter first side: 2\n",
            "Enter second side: 3\n",
            "Enter third side: 4\n",
            "4.5\n",
            "<bound method Sub.areaOfTriangle of <__main__.Sub object at 0x7f341a796438>>\n"
          ],
          "name": "stdout"
        }
      ]
    },
    {
      "cell_type": "markdown",
      "metadata": {
        "id": "wUxHRAQT4G1O",
        "colab_type": "text"
      },
      "source": [
        "1.2\n",
        "Write a function filter_long_words() that takes a list of words and an integer n and returns the list\n",
        "of words that are longer than n."
      ]
    },
    {
      "cell_type": "code",
      "metadata": {
        "id": "H-Su5sVKDNr_",
        "colab_type": "code",
        "outputId": "b305e33b-161a-458e-81fc-972181b75f8b",
        "colab": {
          "base_uri": "https://localhost:8080/",
          "height": 35
        }
      },
      "source": [
        "def filter_long_words(inputList,n):\n",
        " \n",
        "    listOfWords = []\n",
        " \n",
        "    for i in range(len(inputList)):\n",
        "        if len(inputList[i]) > n:\n",
        "            listOfWords.append(inputList[i])\n",
        " \n",
        "    return listOfWords\n",
        " \n",
        "inputList = ['wordOne','wordTwo','wordThree','wordFour','wordFive']\n",
        "n = 7\n",
        " \n",
        "print(filter_long_words(inputList,n))"
      ],
      "execution_count": 13,
      "outputs": [
        {
          "output_type": "stream",
          "text": [
            "['wordThree', 'wordFour', 'wordFive']\n"
          ],
          "name": "stdout"
        }
      ]
    },
    {
      "cell_type": "markdown",
      "metadata": {
        "id": "Mfvzh5uPRgCf",
        "colab_type": "text"
      },
      "source": [
        "2.1\n",
        "Write a Python program using function concept that maps list of words into a list of integers representing the lengths of the corresponding words .\n",
        "\n",
        "Hint: If a list [ ab,cde,erty] is passed on to the python function output should come as [2,3,4]\n",
        "Here 2,3 and 4 are the lengths of the words in the list."
      ]
    },
    {
      "cell_type": "code",
      "metadata": {
        "id": "WsHQsnPaPTXO",
        "colab_type": "code",
        "outputId": "5bcbb710-88ee-4f31-ce36-591e53d8e93a",
        "colab": {
          "base_uri": "https://localhost:8080/",
          "height": 35
        }
      },
      "source": [
        "def map_lenght_of_words(words):\n",
        "  return list((map(lambda x: len(x), words)))\n",
        " \n",
        "print(map_lenght_of_words(['this', 'words', 'are for testing']))\n"
      ],
      "execution_count": 14,
      "outputs": [
        {
          "output_type": "stream",
          "text": [
            "[4, 5, 15]\n"
          ],
          "name": "stdout"
        }
      ]
    },
    {
      "cell_type": "markdown",
      "metadata": {
        "id": "YXoLAxhsUOLM",
        "colab_type": "text"
      },
      "source": [
        "2.2\n",
        "Write a Python function which takes a character (i.e. a string of length 1) and returns True if it is\n",
        "a vowel, False otherwise."
      ]
    },
    {
      "cell_type": "code",
      "metadata": {
        "id": "KAWYYsAQUR9v",
        "colab_type": "code",
        "outputId": "c39ab8b2-0314-423b-c056-c77907699557",
        "colab": {
          "base_uri": "https://localhost:8080/",
          "height": 35
        }
      },
      "source": [
        "def is_vowel(char):\n",
        "    vowels = ('a', 'e', 'i', 'o', 'u')\n",
        "    if char not in vowels:\n",
        "        return False\n",
        "    return True\n",
        "\n",
        "is_vowel('j')\n"
      ],
      "execution_count": 15,
      "outputs": [
        {
          "output_type": "execute_result",
          "data": {
            "text/plain": [
              "False"
            ]
          },
          "metadata": {
            "tags": []
          },
          "execution_count": 15
        }
      ]
    }
  ]
}