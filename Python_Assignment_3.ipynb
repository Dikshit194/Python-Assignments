{
  "nbformat": 4,
  "nbformat_minor": 0,
  "metadata": {
    "colab": {
      "name": "Python_Assignment-3.ipynb",
      "provenance": [],
      "collapsed_sections": [],
      "include_colab_link": true
    },
    "kernelspec": {
      "name": "python3",
      "display_name": "Python 3"
    }
  },
  "cells": [
    {
      "cell_type": "markdown",
      "metadata": {
        "id": "view-in-github",
        "colab_type": "text"
      },
      "source": [
        "<a href=\"https://colab.research.google.com/github/Dikshit194/Python-Assignments/blob/master/Python_Assignment_3.ipynb\" target=\"_parent\"><img src=\"https://colab.research.google.com/assets/colab-badge.svg\" alt=\"Open In Colab\"/></a>"
      ]
    },
    {
      "cell_type": "markdown",
      "metadata": {
        "id": "lf1m4HQCMWaQ",
        "colab_type": "text"
      },
      "source": [
        "**Task 1:**\n",
        "\n",
        "1.\n",
        "Write a function to compute 5/0 and use try/except to catch the exceptions.\n"
      ]
    },
    {
      "cell_type": "code",
      "metadata": {
        "id": "TisDMwqQPcHv",
        "colab_type": "code",
        "outputId": "3b8b8f5e-72b7-42a7-8312-616cb744c9a0",
        "colab": {
          "base_uri": "https://localhost:8080/",
          "height": 35
        }
      },
      "source": [
        "try:\n",
        "  x = 5 / 0\n",
        "except:\n",
        "    print(\"Error: Number can not be divisible by zero\")"
      ],
      "execution_count": 12,
      "outputs": [
        {
          "output_type": "stream",
          "text": [
            "Error: Number can not be divisible by zero\n"
          ],
          "name": "stdout"
        }
      ]
    },
    {
      "cell_type": "markdown",
      "metadata": {
        "id": "N768x1htNL9Y",
        "colab_type": "text"
      },
      "source": [
        "2.\n",
        "Implement a Python program to generate all sentences where subject is in [\"Americans\",\n",
        "\"Indians\"] and verb is in [\"Play\", \"watch\"] and the object is in [\"Baseball\",\"cricket\"].\n",
        "\n",
        "Hint: Subject,Verb and Object should be declared in the program as shown below.\n",
        "\n",
        "subjects=[\"Americans \",\"Indians\"]\n",
        "\n",
        "verbs=[\"play\",\"watch\"]\n",
        "\n",
        "objects=[\"Baseball\",\"Cricket\"]\n"
      ]
    },
    {
      "cell_type": "code",
      "metadata": {
        "id": "stEFgMdI1tIw",
        "colab_type": "code",
        "outputId": "fd2f7de7-6a09-454b-afc0-364768b2adc0",
        "colab": {
          "base_uri": "https://localhost:8080/",
          "height": 156
        }
      },
      "source": [
        "subject=[\"Americans\", \"Indians\"]\n",
        "verb=[\"Play\", \"watch\"]\n",
        "obj=[\"Baseball\",\"cricket\"]\n",
        "\n",
        "sentence_list = [sub+\" \"+ vb + \" \" + ob for sub in subject for vb in verb for ob in obj]\n",
        "for sentence in sentence_list:\n",
        " print(sentence)"
      ],
      "execution_count": 14,
      "outputs": [
        {
          "output_type": "stream",
          "text": [
            "Americans Play Baseball\n",
            "Americans Play cricket\n",
            "Americans watch Baseball\n",
            "Americans watch cricket\n",
            "Indians Play Baseball\n",
            "Indians Play cricket\n",
            "Indians watch Baseball\n",
            "Indians watch cricket\n"
          ],
          "name": "stdout"
        }
      ]
    },
    {
      "cell_type": "markdown",
      "metadata": {
        "id": "0NQqs4vaNmYV",
        "colab_type": "text"
      },
      "source": [
        "**Task 2:**\n",
        "\n",
        "1.\n",
        "Write a function so that the columns of the output matrix are powers of the input vector.\n",
        "The order of the powers is determined by the increasing boolean argument. Specifically, when\n",
        "increasing is False, the i-th output column is the input vector raised element-wise to the power\n",
        "of N - i - 1.\n",
        "\n",
        "HINT: Such a matrix with a geometric progression in each row is named for AlexandreTheophile Vandermonde.\n"
      ]
    },
    {
      "cell_type": "markdown",
      "metadata": {
        "id": "_yzswi7HTL7M",
        "colab_type": "text"
      },
      "source": [
        "**Since Numpy is not covered, unable to answered it.**"
      ]
    }
  ]
}